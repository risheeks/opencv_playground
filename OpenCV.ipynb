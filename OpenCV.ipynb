{
 "cells": [
  {
   "cell_type": "code",
   "execution_count": 1,
   "metadata": {},
   "outputs": [
    {
     "ename": "error",
     "evalue": "OpenCV(4.2.0) /Users/travis/build/skvark/opencv-python/opencv/modules/imgproc/src/median_blur.dispatch.cpp:283: error: (-215:Assertion failed) (ksize % 2 == 1) && (_src0.dims() <= 2 ) in function 'medianBlur'\n",
     "output_type": "error",
     "traceback": [
      "\u001b[0;31m---------------------------------------------------------------------------\u001b[0m",
      "\u001b[0;31merror\u001b[0m                                     Traceback (most recent call last)",
      "\u001b[0;32m<ipython-input-1-ceff7b4bf71f>\u001b[0m in \u001b[0;36m<module>\u001b[0;34m\u001b[0m\n\u001b[1;32m     13\u001b[0m     \u001b[0mt\u001b[0m \u001b[0;34m=\u001b[0m \u001b[0;36m100\u001b[0m \u001b[0;31m# threshold for Canny Edge Detection algorithm\u001b[0m\u001b[0;34m\u001b[0m\u001b[0;34m\u001b[0m\u001b[0m\n\u001b[1;32m     14\u001b[0m     \u001b[0mgrey\u001b[0m \u001b[0;34m=\u001b[0m \u001b[0mcv2\u001b[0m\u001b[0;34m.\u001b[0m\u001b[0mcvtColor\u001b[0m\u001b[0;34m(\u001b[0m\u001b[0mimage\u001b[0m\u001b[0;34m,\u001b[0m \u001b[0mcv2\u001b[0m\u001b[0;34m.\u001b[0m\u001b[0mCOLOR_BGR2GRAY\u001b[0m\u001b[0;34m)\u001b[0m\u001b[0;34m\u001b[0m\u001b[0;34m\u001b[0m\u001b[0m\n\u001b[0;32m---> 15\u001b[0;31m     \u001b[0mblured\u001b[0m \u001b[0;34m=\u001b[0m \u001b[0mcv2\u001b[0m\u001b[0;34m.\u001b[0m\u001b[0mmedianBlur\u001b[0m\u001b[0;34m(\u001b[0m\u001b[0mgrey\u001b[0m\u001b[0;34m,\u001b[0m \u001b[0;36m6\u001b[0m\u001b[0;34m)\u001b[0m\u001b[0;34m\u001b[0m\u001b[0;34m\u001b[0m\u001b[0m\n\u001b[0m\u001b[1;32m     16\u001b[0m \u001b[0;34m\u001b[0m\u001b[0m\n\u001b[1;32m     17\u001b[0m     \u001b[0;31m# Create 2x2 grid for all previews\u001b[0m\u001b[0;34m\u001b[0m\u001b[0;34m\u001b[0m\u001b[0;34m\u001b[0m\u001b[0m\n",
      "\u001b[0;31merror\u001b[0m: OpenCV(4.2.0) /Users/travis/build/skvark/opencv-python/opencv/modules/imgproc/src/median_blur.dispatch.cpp:283: error: (-215:Assertion failed) (ksize % 2 == 1) && (_src0.dims() <= 2 ) in function 'medianBlur'\n"
     ]
    }
   ],
   "source": [
    "import cv2\n",
    "import numpy as np\n",
    "capture = cv2.VideoCapture(0)\n",
    "\n",
    "while True:\n",
    "    ret, image = capture.read()\n",
    "#     image = cv2.resize(image, dsize=(600, 360), interpolation=cv2.INTER_CUBIC)\n",
    "    width, height = image.shape[:-1]\n",
    "#     print(image.shape)\n",
    "    scale = 640.0 / width\n",
    "    image = cv2.resize(image, (0,0), fx=scale, fy=scale)\n",
    "    \n",
    "    t = 100 # threshold for Canny Edge Detection algorithm\n",
    "    grey = cv2.cvtColor(image, cv2.COLOR_BGR2GRAY)\n",
    "    blured = cv2.medianBlur(grey, 6)\n",
    "\n",
    "    # Create 2x2 grid for all previews\n",
    "#     grid = np.zeros([2*width, 2*height, 3], np.uint8)\n",
    "#     image = cv2.resize(image, dsize=(height, width), interpolation=cv2.INTER_CUBIC)\n",
    "#     grid[0:width, 0:height] = image\n",
    "#     # We need to convert each of them to RGB from greyscaled 8 bit format\n",
    "#     grid[width:2*width, 0:height] = cv2.resize(np.dstack([cv2.Canny(grey, t / 2, t)] * 3), dsize=(600, 360), interpolation=cv2.INTER_CUBIC)\n",
    "#     grid[0:width, height:2*height] = cv2.resize(np.dstack([blured] * 3), dsize=(600, 360), interpolation=cv2.INTER_CUBIC)\n",
    "#     grid[width:2*width, height:2*height] = cv2.resize(np.dstack([cv2.Canny(blured, t / 2, t)] * 3), dsize=(600, 360), interpolation=cv2.INTER_CUBIC)\n",
    "    \n",
    "    \n",
    "    sc = 1 # Scale for the algorithm\n",
    "    md = 30 # Minimum required distance between two circles\n",
    "    # Accumulator threshold for circle detection. Smaller numbers are more\n",
    "    # sensitive to false detections but make the detection more tolerant.\n",
    "    at = 40\n",
    "#     circles = cv2.HoughCircles(cv2.Canny(blured, t / 2, t), cv2.HOUGH_GRADIENT, sc, md, t, at)\n",
    "    circles = cv2.HoughCircles(blured, cv2.HOUGH_GRADIENT, sc, md, t, at)\n",
    "#     print(circles.size)\n",
    "#     for i in range(circles.size-1):\n",
    "\n",
    "    sun_img = cv2.imread(\"sun.png\")\n",
    "    \n",
    "    if circles[0] is not None and circles[0][0].ndim == 1:\n",
    "        \n",
    "        circle = circles[0][0]\n",
    "#         print(str(int(circle[0])) + ' ' + str(sun_img.shape[0]))\n",
    "#         print(str(int(circle[1])) + ' ' + str(sun_img.shape[1]))\n",
    "#             print(circle)\n",
    "#             print(circle[1])\n",
    "        x = int(circle[0])\n",
    "        y = int(circle[1])\n",
    "        radius = int(circle[2])\n",
    "        sun_img = cv2.resize(sun_img, dsize=(radius, radius), interpolation=cv2.INTER_CUBIC)\n",
    "#             x, y, radius = int(circle[0]), int(circle[1]), int(circle[2])\n",
    "#             print(x, y, radius)\n",
    "            \n",
    "#             s_img = cv2.imread(\"smaller_image.png\")\n",
    "            # Highlight the circle\n",
    "#         cv2.circle(image, (x, y), radius, (0, 0, 255), 1)\n",
    "            # Draw a dot in the center\n",
    "#         cv2.circle(image, (x, y), 1, (0, 0, 255), 1)\n",
    "        \n",
    "        \n",
    "#         print(image[y:(y+sun_img.shape[0]), x:(x+sun_img.shape[1])].shape)\n",
    "#         print(image[y:y+sun_img.shape[0], x:x+sun_img.shape[1]].shape[1])\n",
    "#         print(radius)\n",
    "#         if image[y:y+sun_img.shape[0], x:x+sun_img.shape[1]].shape[0] > sun_img.shape[0] and image[y:y+sun_img.shape[0], x:x+sun_img.shape[1]].shape[1] > sun_img.shape[1]:\n",
    "        image[y-int((sun_img.shape[0])/2):y+int((sun_img.shape[0]+1)/2), x-int((sun_img.shape[1])/2):x+int((sun_img.shape[1]+1)/2)] = sun_img\n",
    "        \n",
    "    cv2.imshow('Camera stream', image)\n",
    "    if cv2.waitKey(1) & 0xFF == ord('q'):\n",
    "        break"
   ]
  },
  {
   "cell_type": "raw",
   "metadata": {},
   "source": []
  }
 ],
 "metadata": {
  "kernelspec": {
   "display_name": "Python 3",
   "language": "python",
   "name": "python3"
  },
  "language_info": {
   "codemirror_mode": {
    "name": "ipython",
    "version": 3
   },
   "file_extension": ".py",
   "mimetype": "text/x-python",
   "name": "python",
   "nbconvert_exporter": "python",
   "pygments_lexer": "ipython3",
   "version": "3.7.7"
  }
 },
 "nbformat": 4,
 "nbformat_minor": 4
}
