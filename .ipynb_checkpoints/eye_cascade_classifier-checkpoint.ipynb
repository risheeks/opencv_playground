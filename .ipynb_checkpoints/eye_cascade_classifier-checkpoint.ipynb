{
 "cells": [
  {
   "cell_type": "code",
   "execution_count": null,
   "metadata": {},
   "outputs": [],
   "source": [
    "import cv2\n",
    "\n",
    "face_cascade = cv2.CascadeClassifier('haarcascade_frontalface_default.xml')\n",
    "eye_cascade = cv2.CascadeClassifier('haarcascade_eye_tree_eyeglasses.xml')\n",
    "lefteye_cascade = cv2.CascadeClassifier('haarcascade_lefteye_2splits.xml')\n",
    "righteye_cascade = cv2.CascadeClassifier('haarcascade_righteye_2splits.xml')\n",
    "cap = cv2.VideoCapture(0)\n",
    "\n",
    "while True:\n",
    "    ret, image = cap.read()\n",
    "    gray = cv2.cvtColor(image, cv2.COLOR_BGR2GRAY)\n",
    "    blurred = cv2.medianBlur(gray, 5)\n",
    "    faces = face_cascade.detectMultiScale(blurred, 1.1, 4)\n",
    "    \n",
    "    for (x, y, w, h) in faces:        \n",
    "#         if w == image.shape[1] and h == image.shape[0]:\n",
    "#             continue\n",
    "        cv2.rectangle(image, (x, y), (x+w, y+h), (255, 0, 0), 3)\n",
    "        cv2.rectangle(blurred, (x, y), (x+w, y+h), (255, 0, 0), 3)\n",
    "        roi_blurred = blurred[y:y+h, x:x+w]\n",
    "        roi_color = image[y:y+h, x:x+w]\n",
    "        \n",
    "        roi_blurred_l = roi_blurred[:h, :int(w/2)]\n",
    "        roi_blurred_r = roi_blurred[:h, int(w/2):]\n",
    "        \n",
    "        roi_color_l = roi_blurred[:h, :int(w/2)]\n",
    "        roi_color_r = roi_blurred[:h, int(w/2):]\n",
    "#         cv2.imshow('left', roi_blurred_l)\n",
    "#         cv2.imshow('right', roi_blurred_r)\n",
    "        \n",
    "        left_eyes = eye_cascade.detectMultiScale(roi_blurred_l)\n",
    "        right_eyes = eye_cascade.detectMultiScale(roi_blurred_r)\n",
    "#         cv2.imshow('left_roi', roi_blurred_l)\n",
    "#         cv2.imshow('right_roi', roi_blurred_r)\n",
    "#         left_eye = [[[0,0,0],\n",
    "#                     [0,0,0],\n",
    "#                     [0,0,0]]]\n",
    "#         right_eye = [[[0,0,0],\n",
    "#                     [0,0,0],\n",
    "#                     [0,0,0]]]\n",
    "        left_eye = roi_blurred_l\n",
    "        right_eye = roi_blurred_r\n",
    "        for (ex, ey, ew, eh) in left_eyes:\n",
    "#             cv2.rectangle(image, (x+ex, y+ey), (x+ex+ew, y+ey+eh), (0, 255, 0), 5)\n",
    "            left_eye = image[y+ey:y+ey+eh, x+ex:x+ex+ew]\n",
    "#             left_eye = image[y+ey:y+ey+eh, x+ex+int(ew/2):x+ex+int(3*ew/2)]\n",
    "            cv2.imshow('left', left_eye)\n",
    "            \n",
    "        for (ex, ey, ew, eh) in right_eyes:\n",
    "#             cv2.rectangle(image, (x+ex, y+ey), (x+ex+ew, y+ey+eh), (0, 255, 0), 5)\n",
    "            right_eye = image[y+ey:y+ey+eh, x+ex:x+ex+ew]\n",
    "        \n",
    "            cv2.imshow('right', right_eye)\n",
    "        \n",
    "        \n",
    "    if cv2.waitKey(1) and 0xFF == ord('q'):\n",
    "        break\n"
   ]
  },
  {
   "cell_type": "code",
   "execution_count": null,
   "metadata": {},
   "outputs": [],
   "source": []
  }
 ],
 "metadata": {
  "kernelspec": {
   "display_name": "Python 3",
   "language": "python",
   "name": "python3"
  },
  "language_info": {
   "codemirror_mode": {
    "name": "ipython",
    "version": 3
   },
   "file_extension": ".py",
   "mimetype": "text/x-python",
   "name": "python",
   "nbconvert_exporter": "python",
   "pygments_lexer": "ipython3",
   "version": "3.7.7"
  }
 },
 "nbformat": 4,
 "nbformat_minor": 4
}
