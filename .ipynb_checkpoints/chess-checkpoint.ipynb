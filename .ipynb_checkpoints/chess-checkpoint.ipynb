{
 "cells": [
  {
   "cell_type": "code",
   "execution_count": null,
   "metadata": {},
   "outputs": [
    {
     "name": "stdout",
     "output_type": "stream",
     "text": [
      "[[[  0   0]]\n",
      "\n",
      " [[  0 599]]\n",
      "\n",
      " [[596 599]]\n",
      "\n",
      " [[596   0]]]\n"
     ]
    }
   ],
   "source": [
    "import cv2\n",
    "import numpy as np\n",
    "from PIL import Image, ImageDraw\n",
    "\n",
    "\n",
    "# image = Image.open ('board.jpg')\n",
    "\n",
    "# rad = 100\n",
    "# circle = Image.new ('L', (rad * 2, rad * 2), 0)\n",
    "# draw = ImageDraw.Draw (circle)\n",
    "# draw.ellipse ((0, 0, rad * 2, rad * 2), fill = 255)\n",
    "# alpha = Image.new ('L', image.size, 255)\n",
    "# w, h = image.size\n",
    "# alpha.paste (circle.crop ((0, 0, rad, rad)), (0, 0))\n",
    "# alpha.paste (circle.crop ((0, rad, rad, rad * 2)), (0, h-rad))\n",
    "# alpha.paste (circle.crop ((rad, 0, rad * 2, rad)), (w-rad, 0))\n",
    "# alpha.paste (circle.crop ((rad, rad, rad * 2, rad * 2)), (w-rad, h-rad))\n",
    "# image.putalpha (alpha)\n",
    "# image.save ('board1.png')\n",
    "\n",
    "image = cv2.imread('board.png')\n",
    "\n",
    "gray = cv2.cvtColor(image, cv2.COLOR_BGR2GRAY)\n",
    "blur = cv2.medianBlur(gray, 5)\n",
    "sharpen_kernel = np.array([[-1,-1,-1], [-1,9,-1], [-1,-1,-1]])\n",
    "sharpen = cv2.filter2D(blur, -1, sharpen_kernel)\n",
    "\n",
    "thresh = cv2.threshold(sharpen,160,255, cv2.THRESH_BINARY_INV)[1]\n",
    "kernel = cv2.getStructuringElement(cv2.MORPH_RECT, (3,3))\n",
    "close = cv2.morphologyEx(thresh, cv2.MORPH_CLOSE, kernel, iterations=2)\n",
    "\n",
    "cnts = cv2.findContours(close, cv2.RETR_EXTERNAL, cv2.CHAIN_APPROX_SIMPLE)\n",
    "cnts = cnts[0] if len(cnts) == 2 else cnts[1]\n",
    "\n",
    "min_area = 100\n",
    "max_area = 1500\n",
    "image_number = 0\n",
    "# print(cnts)\n",
    "for c in cnts:\n",
    "    print(c)\n",
    "    area = cv2.contourArea(c)\n",
    "#     if area > min_area and area < max_area:\n",
    "    x,y,w,h = cv2.boundingRect(c)\n",
    "    ROI = image[y:y+h, x:x+h]\n",
    "    cv2.imwrite('ROI_{}.png'.format(image_number), ROI)\n",
    "    cv2.rectangle(image, (x, y), (x + w, y + h), (36,255,12), 2)\n",
    "    image_number += 1\n",
    "\n",
    "cv2.imshow('sharpen', sharpen)\n",
    "cv2.imshow('close', close)\n",
    "cv2.imshow('thresh', thresh)\n",
    "cv2.imshow('image', image)\n",
    "cv2.waitKey()"
   ]
  },
  {
   "cell_type": "code",
   "execution_count": null,
   "metadata": {},
   "outputs": [],
   "source": []
  },
  {
   "cell_type": "code",
   "execution_count": null,
   "metadata": {},
   "outputs": [],
   "source": []
  }
 ],
 "metadata": {
  "kernelspec": {
   "display_name": "Python 3",
   "language": "python",
   "name": "python3"
  },
  "language_info": {
   "codemirror_mode": {
    "name": "ipython",
    "version": 3
   },
   "file_extension": ".py",
   "mimetype": "text/x-python",
   "name": "python",
   "nbconvert_exporter": "python",
   "pygments_lexer": "ipython3",
   "version": "3.7.7"
  }
 },
 "nbformat": 4,
 "nbformat_minor": 4
}
