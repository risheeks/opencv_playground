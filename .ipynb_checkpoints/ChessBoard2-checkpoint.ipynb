{
 "cells": [
  {
   "cell_type": "code",
   "execution_count": null,
   "metadata": {},
   "outputs": [],
   "source": [
    "# import numpy as np\n",
    "import cv2\n",
    "# import sys\n",
    "# import os\n",
    "# import imutils\n",
    "\n",
    "nline = 4\n",
    "ncol = 4\n",
    "\n",
    "image = cv2.imread('Board.jpg')\n",
    "# print(image)\n",
    "# resized = imutils.resize(image, width=300)\n",
    "\n",
    "\n",
    "## termination criteria\n",
    "criteria = (cv2.TERM_CRITERIA_EPS + cv2.TERM_CRITERIA_MAX_ITER, 30, 0.001)\n",
    "\n",
    "## processing\n",
    "# width, height = image.shape[:-1]\n",
    "# scale = 640.0 / width\n",
    "# image = cv2.resize(image, (0,0), fx=scale, fy=scale)\n",
    "gray = cv2.cvtColor(image, cv2.COLOR_BGR2GRAY)\n",
    "# blur = cv2.medianBlur(gray, 5)\n",
    "# sharpen_kernel = np.array([[-1,-1,-1], [-1,9,-1], [-1,-1,-1]])\n",
    "# sharpen = cv2.filter2D(blur, -1, sharpen_kernel)\n",
    "# cv2.imshow('gray', gray)\n",
    "\n",
    "# Find the chessboard corners\n",
    "ret, corners = cv2.findChessboardCorners(gray, (nline, ncol), None)\n",
    "corners2 = cv2.cornerSubPix(gray, corners, (11, 11), (-1, -1), criteria)\n",
    "\n",
    "for corner in corners2:\n",
    "    x = corners[0][0][0]\n",
    "    y = corners[0][0][1]\n",
    "    cv2.circle(image, (x, y), 1, (0, 0, 255), 1)\n",
    "    print(str(x) + ' ' + str(y))\n",
    "    \n",
    "cv2.imshow('image', image)"
   ]
  },
  {
   "cell_type": "code",
   "execution_count": null,
   "metadata": {},
   "outputs": [],
   "source": []
  }
 ],
 "metadata": {
  "kernelspec": {
   "display_name": "Python 3",
   "language": "python",
   "name": "python3"
  },
  "language_info": {
   "codemirror_mode": {
    "name": "ipython",
    "version": 3
   },
   "file_extension": ".py",
   "mimetype": "text/x-python",
   "name": "python",
   "nbconvert_exporter": "python",
   "pygments_lexer": "ipython3",
   "version": "3.7.7"
  }
 },
 "nbformat": 4,
 "nbformat_minor": 4
}
